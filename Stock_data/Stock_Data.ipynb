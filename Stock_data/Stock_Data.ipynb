{
 "cells": [
  {
   "cell_type": "code",
   "execution_count": 1,
   "metadata": {},
   "outputs": [],
   "source": [
    "import quandl\n",
    "from datetime import datetime\n",
    "import pandas as pd"
   ]
  },
  {
   "cell_type": "code",
   "execution_count": null,
   "metadata": {},
   "outputs": [],
   "source": [
    "# pull data for microsoft, apple, google, amazon , bitcoin\n",
    "\n",
    "quandl.ApiConfig.api_key = \"V2vzspYSYL8eenGuq8uF \"\n",
    "url = 'https://www.quandl.com/api/v3/databases/EOD/metadata?api_key=V2vzspYSYL8eenGuq8uF'\n",
    "# https://www.quandl.com/api/v3/datasets/WIKI/$%7Bstock%7D.json?start_date=2016-10-01&end_date=2017-10-01&api_key=${apiKey}`;\n",
    "\n"
   ]
  },
  {
   "cell_type": "code",
   "execution_count": null,
   "metadata": {},
   "outputs": [],
   "source": [
    "#Database for AAPL\n",
    "mydata = pd.DataFrame(quandl.get(\"EOD/AAPL\",collapse=\"monthly\"))\n",
    "mydata.head()"
   ]
  },
  {
   "cell_type": "code",
   "execution_count": null,
   "metadata": {},
   "outputs": [],
   "source": [
    "Appledata = mydata[[\"Open\",\"High\",\"Low\",\"Close\",\"Volume\",\"Split\"]]\n",
    "# Appledata = pd.DataFrame(Appledata)"
   ]
  },
  {
   "cell_type": "code",
   "execution_count": null,
   "metadata": {},
   "outputs": [],
   "source": [
    "Appledata.reset_index(inplace = True)\n",
    "\n",
    "Appledata.head()\n",
    "# Appledata.dtypes"
   ]
  },
  {
   "cell_type": "code",
   "execution_count": null,
   "metadata": {},
   "outputs": [],
   "source": [
    "\n",
    "gg = Appledata.loc[Appledata['Date'] == \"1980-12-31\"]\n",
    "gg"
   ]
  },
  {
   "cell_type": "code",
   "execution_count": null,
   "metadata": {
    "scrolled": true
   },
   "outputs": [],
   "source": [
    "\n",
    "year = 1980\n",
    "\n",
    "x = 0\n",
    "changes = []\n",
    "while x < (len(Appledata)-1):\n",
    "    openV = Appledata[\"Open\"][x]\n",
    "\n",
    "    closeV = Appledata[\"Close\"][x+1]\n",
    "    changes.append((closeV-openV)/openV*100)\n",
    "\n",
    "    x += 1\n",
    "print(len(changes))    \n",
    "\n"
   ]
  },
  {
   "cell_type": "code",
   "execution_count": null,
   "metadata": {},
   "outputs": [],
   "source": [
    "months = [\"January\",\"Febuary\",\"March\",\"April\",\"May\",\"June\",\"July\",\"August\",\"Septemeber\",\"October\",\"November\",\"December\"]\n",
    "year = 1981\n",
    "labels = []\n",
    "while year < 2018:\n",
    "    for month in months:\n",
    "        labels.append(str(month) + \" \" + str(year))\n",
    "    year += 1    \n",
    "labels.append(\"January 2018\")\n",
    "labels.append(\"Febuary 2018\")\n",
    "labels.append(\"March 2018\")\n",
    "labels.append(\"April 2018\")\n",
    "labels.append(\"May 2018\")\n",
    "labels.append(\"June 2018\")\n",
    "labels.append(\"July 2018\")\n",
    "labels.append(\"August 2018\")\n",
    "\n",
    "\n",
    "labels"
   ]
  },
  {
   "cell_type": "code",
   "execution_count": null,
   "metadata": {},
   "outputs": [],
   "source": [
    "# database for Microsoft \n",
    "mydata1 = quandl.get(\"EOD/MSFT\",collapse=\"monthly\")\n",
    "mydata1"
   ]
  },
  {
   "cell_type": "code",
   "execution_count": null,
   "metadata": {},
   "outputs": [],
   "source": [
    "newdata1 = mydata1[[\"Open\",\"High\",\"Low\",\"Close\",\"Volume\",\"Split\"]]\n",
    "newdata1"
   ]
  },
  {
   "cell_type": "code",
   "execution_count": null,
   "metadata": {},
   "outputs": [],
   "source": [
    "# database for IBM \n",
    "mydata2 = quandl.get(\"EOD/IBM\")\n",
    "mydata2"
   ]
  },
  {
   "cell_type": "code",
   "execution_count": null,
   "metadata": {},
   "outputs": [],
   "source": [
    "newdata2 = mydata2[[\"Open\",\"High\",\"Low\",\"Close\",\"Volume\",\"Split\"]]\n",
    "newdata2"
   ]
  },
  {
   "cell_type": "code",
   "execution_count": null,
   "metadata": {},
   "outputs": [],
   "source": [
    "mydata3 = quandl.get(\"EOD/INTC\")\n",
    "mydata3\n"
   ]
  },
  {
   "cell_type": "code",
   "execution_count": null,
   "metadata": {},
   "outputs": [],
   "source": [
    "newdata3 = mydata3[[\"Open\",\"High\",\"Low\",\"Close\",\"Volume\",\"Split\"]]\n",
    "newdata3"
   ]
  },
  {
   "cell_type": "code",
   "execution_count": null,
   "metadata": {},
   "outputs": [],
   "source": []
  }
 ],
 "metadata": {
  "kernelspec": {
   "display_name": "Python 3",
   "language": "python",
   "name": "python3"
  },
  "language_info": {
   "codemirror_mode": {
    "name": "ipython",
    "version": 3
   },
   "file_extension": ".py",
   "mimetype": "text/x-python",
   "name": "python",
   "nbconvert_exporter": "python",
   "pygments_lexer": "ipython3",
   "version": "3.6.4"
  }
 },
 "nbformat": 4,
 "nbformat_minor": 2
}
