{
 "cells": [
  {
   "cell_type": "code",
   "execution_count": 2,
   "metadata": {},
   "outputs": [
    {
     "data": {
      "text/html": [
       "<div>\n",
       "<style scoped>\n",
       "    .dataframe tbody tr th:only-of-type {\n",
       "        vertical-align: middle;\n",
       "    }\n",
       "\n",
       "    .dataframe tbody tr th {\n",
       "        vertical-align: top;\n",
       "    }\n",
       "\n",
       "    .dataframe thead th {\n",
       "        text-align: right;\n",
       "    }\n",
       "</style>\n",
       "<table border=\"1\" class=\"dataframe\">\n",
       "  <thead>\n",
       "    <tr style=\"text-align: right;\">\n",
       "      <th></th>\n",
       "      <th>High</th>\n",
       "      <th>Low</th>\n",
       "      <th>Open</th>\n",
       "      <th>Close</th>\n",
       "      <th>Date</th>\n",
       "      <th>volumefrom</th>\n",
       "      <th>Volume</th>\n",
       "    </tr>\n",
       "  </thead>\n",
       "  <tbody>\n",
       "    <tr>\n",
       "      <th>0</th>\n",
       "      <td>11295.58</td>\n",
       "      <td>10256.21</td>\n",
       "      <td>11256.78</td>\n",
       "      <td>10481.66</td>\n",
       "      <td>2018-02-21</td>\n",
       "      <td>183274.25</td>\n",
       "      <td>1.982721e+09</td>\n",
       "    </tr>\n",
       "    <tr>\n",
       "      <th>1</th>\n",
       "      <td>10941.57</td>\n",
       "      <td>9757.19</td>\n",
       "      <td>10481.66</td>\n",
       "      <td>9847.96</td>\n",
       "      <td>2018-02-22</td>\n",
       "      <td>175506.26</td>\n",
       "      <td>1.795952e+09</td>\n",
       "    </tr>\n",
       "    <tr>\n",
       "      <th>2</th>\n",
       "      <td>10420.67</td>\n",
       "      <td>9604.00</td>\n",
       "      <td>9847.96</td>\n",
       "      <td>10175.51</td>\n",
       "      <td>2018-02-23</td>\n",
       "      <td>139373.76</td>\n",
       "      <td>1.399448e+09</td>\n",
       "    </tr>\n",
       "    <tr>\n",
       "      <th>3</th>\n",
       "      <td>10528.00</td>\n",
       "      <td>9396.54</td>\n",
       "      <td>10175.51</td>\n",
       "      <td>9705.73</td>\n",
       "      <td>2018-02-24</td>\n",
       "      <td>125269.68</td>\n",
       "      <td>1.244484e+09</td>\n",
       "    </tr>\n",
       "    <tr>\n",
       "      <th>4</th>\n",
       "      <td>9873.79</td>\n",
       "      <td>9329.44</td>\n",
       "      <td>9705.73</td>\n",
       "      <td>9610.11</td>\n",
       "      <td>2018-02-25</td>\n",
       "      <td>82430.45</td>\n",
       "      <td>7.930932e+08</td>\n",
       "    </tr>\n",
       "  </tbody>\n",
       "</table>\n",
       "</div>"
      ],
      "text/plain": [
       "      High        Low      Open     Close        Date  volumefrom  \\\n",
       "0  11295.58  10256.21  11256.78  10481.66  2018-02-21   183274.25   \n",
       "1  10941.57   9757.19  10481.66   9847.96  2018-02-22   175506.26   \n",
       "2  10420.67   9604.00   9847.96  10175.51  2018-02-23   139373.76   \n",
       "3  10528.00   9396.54  10175.51   9705.73  2018-02-24   125269.68   \n",
       "4   9873.79   9329.44   9705.73   9610.11  2018-02-25    82430.45   \n",
       "\n",
       "         Volume  \n",
       "0  1.982721e+09  \n",
       "1  1.795952e+09  \n",
       "2  1.399448e+09  \n",
       "3  1.244484e+09  \n",
       "4  7.930932e+08  "
      ]
     },
     "execution_count": 2,
     "metadata": {},
     "output_type": "execute_result"
    }
   ],
   "source": [
    "import pandas as pd\n",
    "import requests\n",
    "from datetime import datetime\n",
    "\n",
    "btc_info = requests.get(\"https://min-api.cryptocompare.com/data/histoday?fsym=BTC&tsym=USD&limit=207\")\n",
    "btc_api_json = btc_info.json()\n",
    "import json\n",
    "\n",
    "high = []\n",
    "low =[]\n",
    "openP = []\n",
    "close = []\n",
    "timeS = []\n",
    "volumefrom = []\n",
    "volumeto = []\n",
    "for x in btc_api_json[\"Data\"]:\n",
    "    high.append(x['high'])\n",
    "    low.append(x['low'])\n",
    "    openP.append(x[\"open\"])\n",
    "    close.append(x[\"close\"])\n",
    "    timeS.append(x[\"time\"])\n",
    "    volumefrom.append(x[\"volumefrom\"])\n",
    "    volumeto.append(x[\"volumeto\"])\n",
    "\n",
    "btc_api_df = pd.DataFrame({\n",
    "    \"high\": high, \"low\": low, \"openP\": openP, \"close\": close, \"timeS\": timeS, \"volumefrom\": volumefrom, \"volumeto\":volumeto\n",
    "})\n",
    "\n",
    "btc_api_df = btc_api_df.rename(columns={'high': 'High ', 'openP': 'Open', 'close': 'Close', 'timeS':'Date',\n",
    "                                        'low': \"Low\", \"volumeto\": \"Volume\"})\n",
    "\n",
    "dTime = []\n",
    "for row in btc_api_df[\"Date\"]:\n",
    "    x = datetime.utcfromtimestamp(row).strftime('%Y-%m-%d')\n",
    "    dTime.append(x)\n",
    "btc_api_df[\"Date\"] = dTime\n",
    "btc_api_df.head()"
   ]
  },
  {
   "cell_type": "code",
   "execution_count": 3,
   "metadata": {},
   "outputs": [
    {
     "data": {
      "text/html": [
       "<div>\n",
       "<style scoped>\n",
       "    .dataframe tbody tr th:only-of-type {\n",
       "        vertical-align: middle;\n",
       "    }\n",
       "\n",
       "    .dataframe tbody tr th {\n",
       "        vertical-align: top;\n",
       "    }\n",
       "\n",
       "    .dataframe thead th {\n",
       "        text-align: right;\n",
       "    }\n",
       "</style>\n",
       "<table border=\"1\" class=\"dataframe\">\n",
       "  <thead>\n",
       "    <tr style=\"text-align: right;\">\n",
       "      <th></th>\n",
       "      <th>Date</th>\n",
       "      <th>Open</th>\n",
       "      <th>Close</th>\n",
       "    </tr>\n",
       "  </thead>\n",
       "  <tbody>\n",
       "    <tr>\n",
       "      <th>0</th>\n",
       "      <td>2018-02-21</td>\n",
       "      <td>11256.78</td>\n",
       "      <td>10481.66</td>\n",
       "    </tr>\n",
       "    <tr>\n",
       "      <th>1</th>\n",
       "      <td>2018-02-22</td>\n",
       "      <td>10481.66</td>\n",
       "      <td>9847.96</td>\n",
       "    </tr>\n",
       "    <tr>\n",
       "      <th>2</th>\n",
       "      <td>2018-02-23</td>\n",
       "      <td>9847.96</td>\n",
       "      <td>10175.51</td>\n",
       "    </tr>\n",
       "    <tr>\n",
       "      <th>3</th>\n",
       "      <td>2018-02-24</td>\n",
       "      <td>10175.51</td>\n",
       "      <td>9705.73</td>\n",
       "    </tr>\n",
       "    <tr>\n",
       "      <th>4</th>\n",
       "      <td>2018-02-25</td>\n",
       "      <td>9705.73</td>\n",
       "      <td>9610.11</td>\n",
       "    </tr>\n",
       "  </tbody>\n",
       "</table>\n",
       "</div>"
      ],
      "text/plain": [
       "         Date      Open     Close\n",
       "0  2018-02-21  11256.78  10481.66\n",
       "1  2018-02-22  10481.66   9847.96\n",
       "2  2018-02-23   9847.96  10175.51\n",
       "3  2018-02-24  10175.51   9705.73\n",
       "4  2018-02-25   9705.73   9610.11"
      ]
     },
     "execution_count": 3,
     "metadata": {},
     "output_type": "execute_result"
    }
   ],
   "source": [
    "btc_api_df = btc_api_df[[\"Date\", \"Open\", \"Close\"]]\n",
    "#### csv data\n",
    "kaggle_set = pd.read_csv(\"bitcoin_price.csv\")\n",
    "\n",
    "kaggle_set = kaggle_set[[\"Date\", \"Open\", \"Close\"]]\n",
    "\n",
    "frames = [btc_api_df, kaggle_set]\n",
    "bitcoin_df = pd.concat(frames)\n",
    "\n",
    "bitcoin_df = bitcoin_df[[\"Date\", \"Open\", \"Close\"]]\n",
    "bitcoin_df.head()"
   ]
  },
  {
   "cell_type": "code",
   "execution_count": 4,
   "metadata": {},
   "outputs": [
    {
     "data": {
      "text/html": [
       "<div>\n",
       "<style scoped>\n",
       "    .dataframe tbody tr th:only-of-type {\n",
       "        vertical-align: middle;\n",
       "    }\n",
       "\n",
       "    .dataframe tbody tr th {\n",
       "        vertical-align: top;\n",
       "    }\n",
       "\n",
       "    .dataframe thead th {\n",
       "        text-align: right;\n",
       "    }\n",
       "</style>\n",
       "<table border=\"1\" class=\"dataframe\">\n",
       "  <thead>\n",
       "    <tr style=\"text-align: right;\">\n",
       "      <th></th>\n",
       "      <th>Date</th>\n",
       "      <th>Open</th>\n",
       "      <th>Close</th>\n",
       "    </tr>\n",
       "  </thead>\n",
       "  <tbody>\n",
       "    <tr>\n",
       "      <th>1759</th>\n",
       "      <td>2013-04-28</td>\n",
       "      <td>135.30</td>\n",
       "      <td>134.21</td>\n",
       "    </tr>\n",
       "    <tr>\n",
       "      <th>1758</th>\n",
       "      <td>2013-04-29</td>\n",
       "      <td>134.44</td>\n",
       "      <td>144.54</td>\n",
       "    </tr>\n",
       "  </tbody>\n",
       "</table>\n",
       "</div>"
      ],
      "text/plain": [
       "            Date    Open   Close\n",
       "1759  2013-04-28  135.30  134.21\n",
       "1758  2013-04-29  134.44  144.54"
      ]
     },
     "execution_count": 4,
     "metadata": {},
     "output_type": "execute_result"
    }
   ],
   "source": [
    "bit_sort = bitcoin_df.sort_values(\"Date\", ascending=True)\n",
    "bit_sort.head(2)"
   ]
  },
  {
   "cell_type": "code",
   "execution_count": 5,
   "metadata": {},
   "outputs": [
    {
     "data": {
      "text/plain": [
       "492.0"
      ]
     },
     "execution_count": 5,
     "metadata": {},
     "output_type": "execute_result"
    }
   ],
   "source": [
    "chop = len(bit_sort)\n",
    "chop = chop/4\n",
    "chop"
   ]
  },
  {
   "cell_type": "code",
   "execution_count": 26,
   "metadata": {},
   "outputs": [],
   "source": [
    "bit_sort1 = bit_sort.iloc[:492]\n",
    "bit_sort2 = bit_sort.iloc[492:984]\n",
    "bit_sort3 = bit_sort.iloc[984:1476]\n",
    "bit_sort4 = bit_sort.iloc[1476:]\n",
    "bit_3L = bit_sort.iloc[:984]\n",
    "len(bit_sort4)\n",
    "bit_4L = bit_sort.iloc[984:]"
   ]
  },
  {
   "cell_type": "code",
   "execution_count": 22,
   "metadata": {},
   "outputs": [
    {
     "name": "stdout",
     "output_type": "stream",
     "text": [
      "251.11 -9.49 300.93 277.54\n"
     ]
    }
   ],
   "source": [
    "bit1_O = bit_sort1.iloc[:1][\"Open\"]\n",
    "bit1_C = bit_sort1.iloc[491:][\"Close\"]\n",
    "bit1 = round((int(bit1_C)-int(bit1_O))/int(bit1_O)*100,2)\n",
    "\n",
    "bit2_O = bit_sort2.iloc[:1][\"Open\"]\n",
    "bit2_C = bit_sort2.iloc[491:][\"Close\"]\n",
    "bit2 = round((int(bit2_C)-int(bit2_O))/int(bit2_O)*100,2)\n",
    "\n",
    "bit3_O = bit_sort3.iloc[:1][\"Open\"]\n",
    "bit3_C = bit_sort3.iloc[491:][\"Close\"]\n",
    "bit3 = round((int(bit3_C)-int(bit3_O))/int(bit3_O)*100,2)\n",
    "\n",
    "bit4_O = bit_sort4.iloc[:1][\"Open\"]\n",
    "bit4_C = bit_sort4.iloc[491:][\"Close\"]\n",
    "bit4 = round((int(bit4_C)-int(bit4_O))/int(bit4_O)*100,2)\n",
    "print(bit1, bit2, bit3, bit4)"
   ]
  },
  {
   "cell_type": "code",
   "execution_count": 23,
   "metadata": {},
   "outputs": [],
   "source": [
    "bitQ_Values = [bit1, bit2, bit3, bit4]\n",
    "bitQ_Labels = [\"First Quarter\", \"Seond Quarter\", \"Third Quarter\", \"Fourth Quarter\"]\n",
    "\n",
    "bitCoin_Q_json = {\n",
    "    \"numbers\": bitQ_Values, \n",
    "    \"labels\": bitQ_Labels\n",
    "}"
   ]
  },
  {
   "cell_type": "code",
   "execution_count": 24,
   "metadata": {},
   "outputs": [
    {
     "data": {
      "text/plain": [
       "<pymongo.results.InsertOneResult at 0x21c12595188>"
      ]
     },
     "execution_count": 24,
     "metadata": {},
     "output_type": "execute_result"
    }
   ],
   "source": [
    "import pymongo\n",
    "\n",
    "# Create connection variable\n",
    "conn = 'mongodb://localhost:27017'\n",
    "\n",
    "# Pass connection to the pymongo instance.\n",
    "client = pymongo.MongoClient(conn)\n",
    "\n",
    "# Connect to a database. Will create one if not already available.\n",
    "db = client.bitcoin_Q\n",
    "\n",
    "# Drops collection if available to remove duplicates\n",
    "db.bitcoin_q.drop()\n",
    "\n",
    "# Creates a collection in the database and insert document\n",
    "db.bitcoin_q.insert_one(\n",
    "    bitCoin_Q_json\n",
    ")"
   ]
  },
  {
   "cell_type": "code",
   "execution_count": 25,
   "metadata": {},
   "outputs": [
    {
     "name": "stdout",
     "output_type": "stream",
     "text": [
      "4\n",
      "4\n"
     ]
    }
   ],
   "source": [
    "print(len(bitQ_Values))\n",
    "print(len(bitQ_Labels))"
   ]
  },
  {
   "cell_type": "code",
   "execution_count": null,
   "metadata": {},
   "outputs": [],
   "source": []
  }
 ],
 "metadata": {
  "kernelspec": {
   "display_name": "Python 3",
   "language": "python",
   "name": "python3"
  },
  "language_info": {
   "codemirror_mode": {
    "name": "ipython",
    "version": 3
   },
   "file_extension": ".py",
   "mimetype": "text/x-python",
   "name": "python",
   "nbconvert_exporter": "python",
   "pygments_lexer": "ipython3",
   "version": "3.6.4"
  }
 },
 "nbformat": 4,
 "nbformat_minor": 2
}
